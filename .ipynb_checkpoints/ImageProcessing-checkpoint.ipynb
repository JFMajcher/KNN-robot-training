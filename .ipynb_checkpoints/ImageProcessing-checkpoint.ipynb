{
 "cells": [
  {
   "cell_type": "code",
   "execution_count": 22,
   "metadata": {},
   "outputs": [],
   "source": [
    "import PIL\n",
    "from PIL import Image\n",
    "import os"
   ]
  },
  {
   "cell_type": "code",
   "execution_count": 17,
   "metadata": {},
   "outputs": [],
   "source": [
    "box = (0 , 108, 1920, 1014)\n",
    "folderpath1 = \"D:/Nauka/Magisterskie/!sem3/MSI/projekt/lewo/\"\n",
    "folderpath2 = \"D:/Nauka/Magisterskie/!sem3/MSI/projekt/prawo/\""
   ]
  },
  {
   "cell_type": "code",
   "execution_count": 18,
   "metadata": {},
   "outputs": [
    {
     "ename": "NameError",
     "evalue": "name 'folderpath2' is not defined",
     "output_type": "error",
     "traceback": [
      "\u001b[1;31m---------------------------------------------------------------------------\u001b[0m",
      "\u001b[1;31mNameError\u001b[0m                                 Traceback (most recent call last)",
      "\u001b[1;32m<ipython-input-18-99aa4f3fb38a>\u001b[0m in \u001b[0;36m<module>\u001b[1;34m\u001b[0m\n\u001b[0;32m      3\u001b[0m     \u001b[0mim\u001b[0m\u001b[1;33m.\u001b[0m\u001b[0mcrop\u001b[0m\u001b[1;33m(\u001b[0m\u001b[0mbox\u001b[0m\u001b[1;33m)\u001b[0m\u001b[1;33m.\u001b[0m\u001b[0msave\u001b[0m\u001b[1;33m(\u001b[0m\u001b[0mfolderpath1\u001b[0m \u001b[1;33m+\u001b[0m \u001b[0mfilename\u001b[0m\u001b[1;33m)\u001b[0m\u001b[1;33m\u001b[0m\u001b[1;33m\u001b[0m\u001b[0m\n\u001b[0;32m      4\u001b[0m \u001b[1;33m\u001b[0m\u001b[0m\n\u001b[1;32m----> 5\u001b[1;33m \u001b[1;32mfor\u001b[0m \u001b[0mfilename\u001b[0m \u001b[1;32min\u001b[0m \u001b[0mos\u001b[0m\u001b[1;33m.\u001b[0m\u001b[0mlistdir\u001b[0m\u001b[1;33m(\u001b[0m\u001b[0mfolderpath2\u001b[0m\u001b[1;33m)\u001b[0m\u001b[1;33m:\u001b[0m\u001b[1;33m\u001b[0m\u001b[1;33m\u001b[0m\u001b[0m\n\u001b[0m\u001b[0;32m      6\u001b[0m     \u001b[0mim\u001b[0m \u001b[1;33m=\u001b[0m \u001b[0mImage\u001b[0m\u001b[1;33m.\u001b[0m\u001b[0mopen\u001b[0m\u001b[1;33m(\u001b[0m\u001b[0mfolderpath2\u001b[0m \u001b[1;33m+\u001b[0m \u001b[0mfilename\u001b[0m\u001b[1;33m)\u001b[0m\u001b[1;33m\u001b[0m\u001b[1;33m\u001b[0m\u001b[0m\n\u001b[0;32m      7\u001b[0m     \u001b[0mim\u001b[0m\u001b[1;33m.\u001b[0m\u001b[0mcrop\u001b[0m\u001b[1;33m(\u001b[0m\u001b[0mbox\u001b[0m\u001b[1;33m)\u001b[0m\u001b[1;33m.\u001b[0m\u001b[0msave\u001b[0m\u001b[1;33m(\u001b[0m\u001b[0mfolderpath2\u001b[0m \u001b[1;33m+\u001b[0m \u001b[0mfilename\u001b[0m\u001b[1;33m)\u001b[0m\u001b[1;33m\u001b[0m\u001b[1;33m\u001b[0m\u001b[0m\n",
      "\u001b[1;31mNameError\u001b[0m: name 'folderpath2' is not defined"
     ]
    }
   ],
   "source": [
    "for filename in os.listdir(folderpath1):\n",
    "    im = Image.open(folderpath1 + filename)\n",
    "    im.crop(box).save(folderpath1 + filename)"
   ]
  },
  {
   "cell_type": "code",
   "execution_count": 20,
   "metadata": {},
   "outputs": [],
   "source": [
    "folderpath2 = \"D:/Nauka/Magisterskie/!sem3/MSI/projekt/prawo/\"\n",
    "for filename in os.listdir(folderpath2):\n",
    "    im = Image.open(folderpath2 + filename)\n",
    "    im.crop(box).save(folderpath2 + filename)"
   ]
  },
  {
   "cell_type": "code",
   "execution_count": 27,
   "metadata": {},
   "outputs": [],
   "source": [
    "folderpath3 = \"D:/Nauka/Magisterskie/!sem3/MSI/projekt/lewo/\"\n",
    "folderpath4 = \"D:/Nauka/Magisterskie/!sem3/MSI/projekt/prawo2/\"\n",
    "counter = 2048\n",
    "for filename in os.listdir(folderpath3):\n",
    "    counter += 1\n",
    "    im = Image.open(folderpath3 + filename)\n",
    "    im.transpose(PIL.Image.FLIP_LEFT_RIGHT).save(folderpath4 + \"right \" + str(counter) + \".JPG\")"
   ]
  },
  {
   "cell_type": "code",
   "execution_count": 29,
   "metadata": {},
   "outputs": [],
   "source": [
    "folderpath5 = \"D:/Nauka/Magisterskie/!sem3/MSI/projekt/prawo/\"\n",
    "folderpath6 = \"D:/Nauka/Magisterskie/!sem3/MSI/projekt/lewo2/\"\n",
    "counter = 2048\n",
    "for filename in os.listdir(folderpath5):\n",
    "    counter += 1\n",
    "    im = Image.open(folderpath5 + filename)\n",
    "    im.transpose(PIL.Image.FLIP_LEFT_RIGHT).save(folderpath6 + \"left \" + str(counter) + \".JPG\")"
   ]
  },
  {
   "cell_type": "markdown",
   "metadata": {},
   "source": [
    "I've moved all pictures from folderpath 4 and 6 to 5 and 3 respectively, and now I will resize them to create more compact NN, current size of images is 1920 x 906, next size 240 x 113. "
   ]
  }
 ],
 "metadata": {
  "kernelspec": {
   "display_name": "Python 3",
   "language": "python",
   "name": "python3"
  },
  "language_info": {
   "codemirror_mode": {
    "name": "ipython",
    "version": 3
   },
   "file_extension": ".py",
   "mimetype": "text/x-python",
   "name": "python",
   "nbconvert_exporter": "python",
   "pygments_lexer": "ipython3",
   "version": "3.7.4"
  }
 },
 "nbformat": 4,
 "nbformat_minor": 2
}
